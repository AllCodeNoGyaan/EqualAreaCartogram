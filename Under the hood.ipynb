{
 "cells": [
  {
   "cell_type": "markdown",
   "metadata": {},
   "source": [
    "# Equal Area Cartogram Mapper"
   ]
  },
  {
   "cell_type": "markdown",
   "metadata": {},
   "source": [
    "### Heuristic"
   ]
  },
  {
   "cell_type": "markdown",
   "metadata": {},
   "source": [
    "1. Get the x_coord (latitude) and y_coord (longitude) of each area\n",
    "2. Normalize the x_coords and y_coords to align all points into a rectangular grid with a width of `num_x_grid` and length of `num_y_grid`.\n",
    "3. If a bin (i.e., an x-y coordinate pair) has more than 1 point, select a point from the bin and shunt it to a neighbouring bin if neighbouring bin is empty. If no neighbouring bin is empty find a direction (up, down, left, or right) with the most proportion of empty spaces, shift all existing points in that direction by 1, and then move the selected point into that direction\n",
    "4. Iterate 3. until all bins only have 1 point in them.\n",
    "5. Convert grid to hexmap SVG"
   ]
  },
  {
   "cell_type": "markdown",
   "metadata": {},
   "source": [
    "### Loading dependencies"
   ]
  },
  {
   "cell_type": "code",
   "execution_count": 1,
   "metadata": {
    "collapsed": true
   },
   "outputs": [],
   "source": [
    "%matplotlib inline\n",
    "\n",
    "from chorogrid import Chorogrid\n",
    "import pandas as pd\n",
    "import geopandas as gpd #not needed if loading from csv or excel\n",
    "import seaborn as sns"
   ]
  },
  {
   "cell_type": "markdown",
   "metadata": {},
   "source": [
    "### Step 1\n",
    "Get the x_coord (latitude) and y_coord (longitude) of each area"
   ]
  },
  {
   "cell_type": "code",
   "execution_count": 2,
   "metadata": {
    "collapsed": true
   },
   "outputs": [],
   "source": [
    "geodf = gpd.read_file(\"sample_data/gujarat.json\")\n",
    "geodf = geodf[geodf.AC_NO != '0']\n",
    "\n",
    "geodf['centroid'] = geodf['geometry'].apply(lambda x: x.centroid)\n",
    "geodf['latitude'] = geodf['centroid'].apply(lambda x: x.coords.xy[0][0])\n",
    "geodf['longitude'] = geodf['centroid'].apply(lambda x: x.coords.xy[1][0])"
   ]
  },
  {
   "cell_type": "markdown",
   "metadata": {},
   "source": [
    "### Step 2\n",
    "Normalize the x_coords and y_coords to align all points into a rectangular grid with a width of `num_x_grid` and length of `num_y_grid`."
   ]
  },
  {
   "cell_type": "code",
   "execution_count": 3,
   "metadata": {
    "collapsed": true
   },
   "outputs": [],
   "source": [
    "num_x_grid = 25#25\n",
    "num_y_grid = 20#20"
   ]
  },
  {
   "cell_type": "code",
   "execution_count": 4,
   "metadata": {
    "collapsed": true
   },
   "outputs": [],
   "source": [
    "if num_x_grid * num_y_grid < geodf.shape[0]:\n",
    "    print \"Add more dimensions to the grid. I.e., increase the num_x_grid, num_y_grid, or both\""
   ]
  },
  {
   "cell_type": "code",
   "execution_count": 5,
   "metadata": {
    "collapsed": true
   },
   "outputs": [],
   "source": [
    "xmax, xmin = geodf['latitude'].max(), geodf['latitude'].min()\n",
    "ymax, ymin = geodf['longitude'].max(), geodf['longitude'].min()\n",
    "x_range = xmax - xmin\n",
    "y_range = ymax - ymin\n",
    "\n",
    "geodf[\"x_bin\"] = geodf[\"latitude\"].apply(lambda x: int(num_x_grid*(x - xmin)/x_range))\n",
    "geodf[\"y_bin\"] = geodf[\"longitude\"].apply(lambda y: int(num_y_grid*(ymax-y)/y_range))"
   ]
  },
  {
   "cell_type": "markdown",
   "metadata": {},
   "source": [
    "### Steps 3 and 4\n",
    "If a bin (i.e., an x-y coordinate pair) has more than 1 point, select a point from the bin and shunt it to a neighbouring bin if neighbouring bin is empty. If no neighbouring bin is empty find a direction (up, down, left, or right) with the most proportion of empty spaces, shift all existing points in that direction by 1, and then move the selected point into that direction.\n",
    "\n",
    "Repeat until all bins only have 1 point."
   ]
  },
  {
   "cell_type": "code",
   "execution_count": 6,
   "metadata": {
    "collapsed": true
   },
   "outputs": [],
   "source": [
    "def is_valid(coord_points):\n",
    "    for coord in coord_points:\n",
    "        if len(coord_points[coord]) > 1:\n",
    "            return False\n",
    "    return True"
   ]
  },
  {
   "cell_type": "code",
   "execution_count": 7,
   "metadata": {
    "collapsed": true
   },
   "outputs": [],
   "source": [
    "def delete_old_point(x, y, ac_to_shunt):\n",
    "    coord_points[str(x) + \"_\" + str(y)].remove(ac_to_shunt)\n",
    "    x_coords_points[x].remove(ac_to_shunt)\n",
    "    y_coords_points[y].remove(ac_to_shunt)\n",
    "    return"
   ]
  },
  {
   "cell_type": "code",
   "execution_count": 8,
   "metadata": {
    "collapsed": true
   },
   "outputs": [],
   "source": [
    "def update_new_point(x, y, ac_to_shunt):\n",
    "    point_position[ac_to_shunt] = {\"x_bin\": x, \"y_bin\": y}\n",
    "    if str(x) + \"_\" + str(y) not in coord_points:\n",
    "        coord_points[str(x) + \"_\" + str(y)] = []\n",
    "    coord_points[str(x) + \"_\" + str(y)].append(ac_to_shunt)\n",
    "    if x not in x_coords_points:\n",
    "        x_coords_points[x] = []\n",
    "    x_coords_points[x].append(ac_to_shunt)\n",
    "\n",
    "    if y not in y_coords_points:\n",
    "        y_coords_points[y] = []\n",
    "    y_coords_points[y].append(ac_to_shunt)\n",
    "    return"
   ]
  },
  {
   "cell_type": "code",
   "execution_count": 9,
   "metadata": {
    "collapsed": true
   },
   "outputs": [],
   "source": [
    "def shunt_point(coord):\n",
    "    x, y = coord.split('_')\n",
    "    ac_to_shunt = coord_points[coord][1]\n",
    "    x = int(x)\n",
    "    y = int(y)\n",
    "    \n",
    "    #check if a neighbouring bin is empty and move to neighbouring bin\n",
    "    for point in [(min(x+1, num_x_grid), y), (min(x+1, num_x_grid), min(y+1, num_y_grid)), (min(x+1, num_x_grid), max(0, y-1)), \n",
    "                  (max(0, x-1), y), (max(0, x-1), min(y+1, num_y_grid)), (max(0, x-1), max(0, y-1)), \n",
    "                  (x, min(y+1, num_y_grid)), (x, max(0, y-1))]:\n",
    "        if len(coord_points.get(str(point[0]) + \"_\" + str(point[1]), [])) == 0:\n",
    "            #delete old point\n",
    "            delete_old_point(x, y, ac_to_shunt)\n",
    "            \n",
    "            #add new point\n",
    "            update_new_point(point[0], point[1], ac_to_shunt)\n",
    "            return\n",
    "    \n",
    "    #move to a neighbouring bin in the direction that is most sparse\n",
    "    prop_x_plus_empty = 1.*len([i for i in range(x+1, 51) if len(coord_points.get(str(i) + \"_%d\"%y, [])) == 0])/(num_x_grid-x) if x != num_x_grid else 0\n",
    "    prop_x_minus_empty = 1.*len([i for i in range(x-1, -1, -1) if len(coord_points.get(str(i) + \"_%d\"%y, [])) == 0])/(x) if x != 0 else 0\n",
    "    \n",
    "    prop_y_plus_empty = 1.*len([i for i in range(y+1, 41) if len(coord_points.get(\"%d_\"%x + str(i), [])) == 0])/(num_y_grid-y) if y != num_y_grid else 0\n",
    "    prop_y_minus_empty = 1.*len([i for i in range(y-1, -1, -1) if len(coord_points.get(\"%d_\"%x + str(i), [])) == 0])/(y) if y != 0 else 0\n",
    "    \n",
    "    delete_old_point(x, y, ac_to_shunt)\n",
    "    if prop_x_plus_empty is max(prop_x_plus_empty, prop_x_minus_empty, prop_y_plus_empty, prop_y_minus_empty):\n",
    "        for idx in range(x+1, 51)[::-1]:\n",
    "            if str(idx) + \"_\" + str(y) in coord_points:\n",
    "                for ac in coord_points[str(idx) + \"_\" + str(y)]:\n",
    "                    delete_old_point(idx, y, ac)\n",
    "                    update_new_point(min(idx+1, num_x_grid), y, ac)\n",
    "\n",
    "        update_new_point(min(x+1, num_x_grid), y, ac_to_shunt)\n",
    "        return\n",
    "    if prop_x_minus_empty is max(prop_x_plus_empty, prop_x_minus_empty, prop_y_plus_empty, prop_y_minus_empty):\n",
    "        for idx in range(x-1, -1, -1)[::-1]:\n",
    "            if str(idx) + \"_\" + str(y) in coord_points:\n",
    "                for ac in coord_points[str(idx) + \"_\" + str(y)]:\n",
    "                    delete_old_point(idx, y, ac)\n",
    "                    update_new_point(max(idx-1, 0), y, ac)\n",
    "\n",
    "        update_new_point(max(x-1, 0), y, ac_to_shunt)\n",
    "        return\n",
    "    if prop_y_plus_empty is max(prop_x_plus_empty, prop_x_minus_empty, prop_y_plus_empty, prop_y_minus_empty):\n",
    "        for idx in range(y+1, 41)[::-1]:\n",
    "            if str(x) + \"_\" + str(idx) in coord_points:\n",
    "                for ac in coord_points[str(x) + \"_\" + str(idx)]:\n",
    "                    delete_old_point(x, idx, ac)\n",
    "                    update_new_point(x, min(idx+1, num_y_grid), ac)\n",
    "\n",
    "        update_new_point(x, min(y+1, num_y_grid), ac_to_shunt)\n",
    "        return\n",
    "    if prop_y_minus_empty is max(prop_x_plus_empty, prop_x_minus_empty, prop_y_plus_empty, prop_y_minus_empty):\n",
    "        for idx in range(y-1, -1, -1)[::-1]:\n",
    "            if str(x) + \"_\" + str(idx) in coord_points:\n",
    "                for ac in coord_points[str(x) + \"_\" + str(idx)]:\n",
    "                    delete_old_point(x, idx, ac)\n",
    "                    update_new_point(x, max(idx-1, 0), ac)\n",
    "\n",
    "        update_new_point(x, max(y-1, 0), ac_to_shunt)\n",
    "        return"
   ]
  },
  {
   "cell_type": "code",
   "execution_count": 10,
   "metadata": {
    "collapsed": true
   },
   "outputs": [],
   "source": [
    "point_position = geodf.set_index(\"AC_NO\")[['x_bin', 'y_bin']].to_dict(orient='index')\n",
    "\n",
    "x_coords_points = {}\n",
    "y_coords_points = {}\n",
    "\n",
    "for point in point_position:\n",
    "    if point_position[point]['x_bin'] not in x_coords_points:\n",
    "        x_coords_points[point_position[point]['x_bin']] = []\n",
    "    if point_position[point]['y_bin'] not in y_coords_points:\n",
    "        y_coords_points[point_position[point]['y_bin']] = []\n",
    "    x_coords_points[point_position[point]['x_bin']].append(point)\n",
    "    y_coords_points[point_position[point]['y_bin']].append(point)\n",
    "\n",
    "coord_points = {} #{str(value['x_bin']) + \"_\" + str(value[\"y_bin\"]): key for key, value in point_position.iteritems()}\n",
    "for point, value in point_position.iteritems():\n",
    "    if (str(value[\"x_bin\"]) + \"_\" + str(value[\"y_bin\"])) not in coord_points:\n",
    "        coord_points[str(value[\"x_bin\"]) + \"_\" + str(value[\"y_bin\"])] = []\n",
    "    coord_points[str(value[\"x_bin\"]) + \"_\" + str(value[\"y_bin\"])].append(point)"
   ]
  },
  {
   "cell_type": "code",
   "execution_count": 11,
   "metadata": {
    "collapsed": true
   },
   "outputs": [],
   "source": [
    "iteration = 0\n",
    "while not is_valid(coord_points):\n",
    "    coord_to_shunt_from = max(coord_points, key=lambda x: len(coord_points[x]))\n",
    "    ac_to_shunt = coord_points[coord_to_shunt_from][1]\n",
    "    shunt_point(coord_to_shunt_from)\n",
    "    iteration += 1"
   ]
  },
  {
   "cell_type": "code",
   "execution_count": 12,
   "metadata": {},
   "outputs": [
    {
     "data": {
      "text/plain": [
       "<matplotlib.axes._subplots.AxesSubplot at 0x7f8f8bd0e990>"
      ]
     },
     "execution_count": 12,
     "metadata": {},
     "output_type": "execute_result"
    },
    {
     "data": {
      "image/png": "[encoded data removed]",
      "text/plain": [
       "<matplotlib.figure.Figure at 0x7f8f8c455f50>"
      ]
     },
     "metadata": {},
     "output_type": "display_data"
    }
   ],
   "source": [
    "sns.heatmap(pd.crosstab(geodf[\"y_bin\"], geodf[\"x_bin\"]))"
   ]
  },
  {
   "cell_type": "code",
   "execution_count": 13,
   "metadata": {},
   "outputs": [
    {
     "data": {
      "text/plain": [
       "<matplotlib.axes._subplots.AxesSubplot at 0x7f8f89b60150>"
      ]
     },
     "execution_count": 13,
     "metadata": {},
     "output_type": "execute_result"
    },
    {
     "data": {
      "image/png": "[encoded data removed]",
      "text/plain": [
       "<matplotlib.figure.Figure at 0x7f8f8c468250>"
      ]
     },
     "metadata": {},
     "output_type": "display_data"
    }
   ],
   "source": [
    "temp_df = pd.DataFrame([i.split('_') for i in coord_points.keys()]).astype(int)\n",
    "sns.heatmap(pd.crosstab(temp_df[1], temp_df[0]))"
   ]
  },
  {
   "cell_type": "markdown",
   "metadata": {},
   "source": [
    "### Step 5\n",
    "Convert grid to hexmap SVG"
   ]
  },
  {
   "cell_type": "code",
   "execution_count": 14,
   "metadata": {
    "collapsed": true
   },
   "outputs": [],
   "source": [
    "geodf['hex_x'] = geodf['AC_NO'].apply(lambda x: point_position[x.split(\"_\")[-1]][\"x_bin\"])\n",
    "geodf['hex_y'] = geodf['AC_NO'].apply(lambda x: point_position[x.split(\"_\")[-1]][\"y_bin\"])"
   ]
  },
  {
   "cell_type": "code",
   "execution_count": 15,
   "metadata": {
    "collapsed": true
   },
   "outputs": [],
   "source": [
    "ids = geodf.AC_NO.tolist()\n",
    "colors = [\"#eeeeee\"]*len(ids)"
   ]
  },
  {
   "cell_type": "code",
   "execution_count": 16,
   "metadata": {},
   "outputs": [
    {
     "data": {
      "image/svg+xml": [
       "<svg height=\"303.135\" version=\"1.1\" width=\"441.5\" xmlns=\"http://www.w3.org/2000/svg\">\n",
       "<polygon id=\"42\" points=\"289,107.932667397 296,103.602540378 304,107.932667397 304,116.592921435 296,120.923048454 289,116.592921435\"/>\n",
       "<polygon id=\"79\" points=\"81,135.913429511 88,131.583302492 96,135.913429511 96,144.573683549 88,148.903810568 81,144.573683549\"/>\n",
       "<polygon id=\"145\" points=\"305,163.894191624 312,159.564064606 320,163.894191624 320,172.554445662 312,176.884572681 305,172.554445662\"/>\n",
       "<polygon id=\"105\" points=\"257,191.874953738 264,187.544826719 272,191.874953738 272,200.535207776 264,204.865334795 257,200.535207776\"/>\n",
       "<polygon id=\"177\" points=\"337,247.836477965 344,243.506350946 352,247.836477965 352,256.496732003 344,260.826859022 337,256.496732003\"/>\n",
       "<polygon id=\"70\" points=\"161,163.894191624 168,159.564064606 176,163.894191624 176,172.554445662 168,176.884572681 161,172.554445662\"/>\n",
       "<polygon id=\"15\" points=\"218,37.9807621135 225,33.6506350946 233,37.9807621135 233,46.6410161514 225,50.9711431703 218,46.6410161514\"/>\n",
       "<polygon id=\"3\" points=\"58,65.9615242271 65,61.6313972081 73,65.9615242271 73,74.6217782649 65,78.9519052838 58,74.6217782649\"/>\n",
       "<polygon id=\"50\" points=\"266,121.923048454 273,117.592921435 281,121.923048454 281,130.583302492 273,134.913429511 266,130.583302492\"/>\n",
       "<polygon id=\"20\" points=\"282,37.9807621135 289,33.6506350946 297,37.9807621135 297,46.6410161514 289,50.9711431703 282,46.6410161514\"/>\n",
       "<polygon id=\"22\" points=\"289,51.9711431703 296,47.6410161514 304,51.9711431703 304,60.6313972081 296,64.9615242271 289,60.6313972081\"/>\n",
       "<polygon id=\"37\" points=\"289,79.9519052838 296,75.6217782649 304,79.9519052838 304,88.6121593217 296,92.9422863406 289,88.6121593217\"/>\n",
       "<polygon id=\"24\" points=\"257,79.9519052838 264,75.6217782649 272,79.9519052838 272,88.6121593217 264,92.9422863406 257,88.6121593217\"/>\n",
       "<polygon id=\"159\" points=\"305,247.836477965 312,243.506350946 320,247.836477965 320,256.496732003 312,260.826859022 305,256.496732003\"/>\n",
       "<polygon id=\"122\" points=\"401,79.9519052838 408,75.6217782649 416,79.9519052838 416,88.6121593217 408,92.9422863406 401,88.6121593217\"/>\n",
       "<polygon id=\"36\" points=\"298,65.9615242271 305,61.6313972081 313,65.9615242271 313,74.6217782649 305,78.9519052838 298,74.6217782649\"/>\n",
       "<polygon id=\"43\" points=\"353,107.932667397 360,103.602540378 368,107.932667397 368,116.592921435 360,120.923048454 353,116.592921435\"/>\n",
       "<polygon id=\"120\" points=\"401,107.932667397 408,103.602540378 416,107.932667397 416,116.592921435 408,120.923048454 401,116.592921435\"/>\n",
       "<polygon id=\"41\" points=\"282,93.9422863406 289,89.6121593217 297,93.9422863406 297,102.602540378 289,106.932667397 282,102.602540378\"/>\n",
       "<polygon id=\"52\" points=\"321,107.932667397 328,103.602540378 336,107.932667397 336,116.592921435 328,120.923048454 321,116.592921435\"/>\n",
       "<polygon id=\"125\" points=\"417,107.932667397 424,103.602540378 432,107.932667397 432,116.592921435 424,120.923048454 417,116.592921435\"/>\n",
       "<polygon id=\"130\" points=\"401,135.913429511 408,131.583302492 416,135.913429511 416,144.573683549 408,148.903810568 401,144.573683549\"/>\n",
       "<polygon id=\"66\" points=\"138,121.923048454 145,117.592921435 153,121.923048454 153,130.583302492 145,134.913429511 138,130.583302492\"/>\n",
       "<polygon id=\"135\" points=\"337,135.913429511 344,131.583302492 352,135.913429511 352,144.573683549 344,148.903810568 337,144.573683549\"/>\n",
       "<polygon id=\"112\" points=\"282,149.903810568 289,145.573683549 297,149.903810568 297,158.564064606 289,162.894191624 282,158.564064606\"/>\n",
       "<polygon id=\"69\" points=\"154,149.903810568 161,145.573683549 169,149.903810568 169,158.564064606 161,162.894191624 154,158.564064606\"/>\n",
       "<polygon id=\"167\" points=\"289,219.855715851 296,215.525588833 304,219.855715851 304,228.515969889 296,232.846096908 289,228.515969889\"/>\n",
       "<polygon id=\"142\" points=\"346,149.903810568 353,145.573683549 361,149.903810568 361,158.564064606 353,162.894191624 346,158.564064606\"/>\n",
       "<polygon id=\"146\" points=\"314,149.903810568 321,145.573683549 329,149.903810568 329,158.564064606 321,162.894191624 314,158.564064606\"/>\n",
       "<polygon id=\"150\" points=\"289,163.894191624 296,159.564064606 304,163.894191624 304,172.554445662 296,176.884572681 289,172.554445662\"/>\n",
       "<polygon id=\"83\" points=\"42,177.884572681 49,173.554445662 57,177.884572681 57,186.544826719 49,190.874953738 42,186.544826719\"/>\n",
       "<polygon id=\"153\" points=\"321,191.874953738 328,187.544826719 336,191.874953738 336,200.535207776 328,204.865334795 321,200.535207776\"/>\n",
       "<polygon id=\"162\" points=\"321,219.855715851 328,215.525588833 336,219.855715851 336,228.515969889 328,232.846096908 321,228.515969889\"/>\n",
       "<polygon id=\"154\" points=\"305,191.874953738 312,187.544826719 320,191.874953738 320,200.535207776 312,204.865334795 305,200.535207776\"/>\n",
       "<polygon id=\"90\" points=\"106,233.846096908 113,229.515969889 121,233.846096908 121,242.506350946 113,246.836477965 106,242.506350946\"/>\n",
       "<polygon id=\"47\" points=\"330,93.9422863406 337,89.6121593217 345,93.9422863406 345,102.602540378 337,106.932667397 330,102.602540378\"/>\n",
       "<polygon id=\"169\" points=\"353,219.855715851 360,215.525588833 368,219.855715851 368,228.515969889 360,232.846096908 353,228.515969889\"/>\n",
       "<polygon id=\"8\" points=\"202,10.0 209,5.66987298108 217,10.0 217,18.6602540378 209,22.9903810568 202,18.6602540378\"/>\n",
       "<polygon id=\"13\" points=\"234,10.0 241,5.66987298108 249,10.0 249,18.6602540378 241,22.9903810568 234,18.6602540378\"/>\n",
       "<polygon id=\"161\" points=\"337,219.855715851 344,215.525588833 352,219.855715851 352,228.515969889 344,232.846096908 337,228.515969889\"/>\n",
       "<polygon id=\"7\" points=\"193,23.9903810568 200,19.6602540378 208,23.9903810568 208,32.6506350946 200,36.9807621135 193,32.6506350946\"/>\n",
       "<polygon id=\"165\" points=\"314,205.865334795 321,201.535207776 329,205.865334795 329,214.525588833 321,218.855715851 314,214.525588833\"/>\n",
       "<polygon id=\"21\" points=\"273,51.9711431703 280,47.6410161514 288,51.9711431703 288,60.6313972081 280,64.9615242271 273,60.6313972081\"/>\n",
       "<polygon id=\"164\" points=\"305,219.855715851 312,215.525588833 320,219.855715851 320,228.515969889 312,232.846096908 305,228.515969889\"/>\n",
       "<polygon id=\"163\" points=\"298,261.826859022 305,257.496732003 313,261.826859022 313,270.48711306 305,274.817240079 298,270.48711306\"/>\n",
       "<polygon id=\"9\" points=\"250,10.0 257,5.66987298108 265,10.0 265,18.6602540378 257,22.9903810568 250,18.6602540378\"/>\n",
       "<polygon id=\"160\" points=\"298,205.865334795 305,201.535207776 313,205.865334795 313,214.525588833 305,218.855715851 298,214.525588833\"/>\n",
       "<polygon id=\"10\" points=\"289,23.9903810568 296,19.6602540378 304,23.9903810568 304,32.6506350946 296,36.9807621135 289,32.6506350946\"/>\n",
       "<polygon id=\"14\" points=\"225,23.9903810568 232,19.6602540378 240,23.9903810568 240,32.6506350946 232,36.9807621135 225,32.6506350946\"/>\n",
       "<polygon id=\"29\" points=\"321,23.9903810568 328,19.6602540378 336,23.9903810568 336,32.6506350946 328,36.9807621135 321,32.6506350946\"/>\n",
       "<polygon id=\"166\" points=\"282,205.865334795 289,201.535207776 297,205.865334795 297,214.525588833 289,218.855715851 282,214.525588833\"/>\n",
       "<polygon id=\"12\" points=\"273,23.9903810568 280,19.6602540378 288,23.9903810568 288,32.6506350946 280,36.9807621135 273,32.6506350946\"/>\n",
       "<polygon id=\"26\" points=\"282,65.9615242271 289,61.6313972081 297,65.9615242271 297,74.6217782649 289,78.9519052838 282,74.6217782649\"/>\n",
       "<polygon id=\"11\" points=\"266,37.9807621135 273,33.6506350946 281,37.9807621135 281,46.6410161514 273,50.9711431703 266,46.6410161514\"/>\n",
       "<polygon id=\"19\" points=\"250,37.9807621135 257,33.6506350946 265,37.9807621135 265,46.6410161514 257,50.9711431703 250,46.6410161514\"/>\n",
       "<polygon id=\"44\" points=\"305,107.932667397 312,103.602540378 320,107.932667397 320,116.592921435 312,120.923048454 305,116.592921435\"/>\n",
       "<polygon id=\"16\" points=\"193,51.9711431703 200,47.6410161514 208,51.9711431703 208,60.6313972081 200,64.9615242271 193,60.6313972081\"/>\n",
       "<polygon id=\"1\" points=\"17,79.9519052838 24,75.6217782649 32,79.9519052838 32,88.6121593217 24,92.9422863406 17,88.6121593217\"/>\n",
       "<polygon id=\"45\" points=\"298,93.9422863406 305,89.6121593217 313,93.9422863406 313,102.602540378 305,106.932667397 298,102.602540378\"/>\n",
       "<polygon id=\"18\" points=\"241,51.9711431703 248,47.6410161514 256,51.9711431703 256,60.6313972081 248,64.9615242271 241,60.6313972081\"/>\n",
       "<polygon id=\"55\" points=\"266,93.9422863406 273,89.6121593217 281,93.9422863406 281,102.602540378 273,106.932667397 266,102.602540378\"/>\n",
       "<polygon id=\"17\" points=\"218,65.9615242271 225,61.6313972081 233,65.9615242271 233,74.6217782649 225,78.9519052838 218,74.6217782649\"/>\n",
       "<polygon id=\"30\" points=\"330,65.9615242271 337,61.6313972081 345,65.9615242271 345,74.6217782649 337,78.9519052838 330,74.6217782649\"/>\n",
       "<polygon id=\"6\" points=\"122,65.9615242271 129,61.6313972081 137,65.9615242271 137,74.6217782649 129,78.9519052838 122,74.6217782649\"/>\n",
       "<polygon id=\"28\" points=\"305,51.9711431703 312,47.6410161514 320,51.9711431703 320,60.6313972081 312,64.9615242271 305,60.6313972081\"/>\n",
       "<polygon id=\"25\" points=\"266,65.9615242271 273,61.6313972081 281,65.9615242271 281,74.6217782649 273,78.9519052838 266,74.6217782649\"/>\n",
       "<polygon id=\"23\" points=\"250,65.9615242271 257,61.6313972081 265,65.9615242271 265,74.6217782649 257,78.9519052838 250,74.6217782649\"/>\n",
       "<polygon id=\"27\" points=\"314,65.9615242271 321,61.6313972081 329,65.9615242271 329,74.6217782649 321,78.9519052838 314,74.6217782649\"/>\n",
       "<polygon id=\"31\" points=\"353,79.9519052838 360,75.6217782649 368,79.9519052838 368,88.6121593217 360,92.9422863406 353,88.6121593217\"/>\n",
       "<polygon id=\"5\" points=\"113,79.9519052838 120,75.6217782649 128,79.9519052838 128,88.6121593217 120,92.9422863406 113,88.6121593217\"/>\n",
       "<polygon id=\"4\" points=\"74,93.9422863406 81,89.6121593217 89,93.9422863406 89,102.602540378 81,106.932667397 74,102.602540378\"/>\n",
       "<polygon id=\"33\" points=\"305,79.9519052838 312,75.6217782649 320,79.9519052838 320,88.6121593217 312,92.9422863406 305,88.6121593217\"/>\n",
       "<polygon id=\"35\" points=\"273,79.9519052838 280,75.6217782649 288,79.9519052838 288,88.6121593217 280,92.9422863406 273,88.6121593217\"/>\n",
       "<polygon id=\"60\" points=\"218,93.9422863406 225,89.6121593217 233,93.9422863406 233,102.602540378 225,106.932667397 218,102.602540378\"/>\n",
       "<polygon id=\"39\" points=\"234,93.9422863406 241,89.6121593217 249,93.9422863406 249,102.602540378 241,106.932667397 234,102.602540378\"/>\n",
       "<polygon id=\"56\" points=\"346,93.9422863406 353,89.6121593217 361,93.9422863406 361,102.602540378 353,106.932667397 346,102.602540378\"/>\n",
       "<polygon id=\"32\" points=\"337,79.9519052838 344,75.6217782649 352,79.9519052838 352,88.6121593217 344,92.9422863406 337,88.6121593217\"/>\n",
       "<polygon id=\"34\" points=\"394,93.9422863406 401,89.6121593217 409,93.9422863406 409,102.602540378 401,106.932667397 394,102.602540378\"/>\n",
       "<polygon id=\"51\" points=\"250,93.9422863406 257,89.6121593217 265,93.9422863406 265,102.602540378 257,106.932667397 250,102.602540378\"/>\n",
       "<polygon id=\"2\" points=\"49,107.932667397 56,103.602540378 64,107.932667397 64,116.592921435 56,120.923048454 49,116.592921435\"/>\n",
       "<polygon id=\"123\" points=\"369,79.9519052838 376,75.6217782649 384,79.9519052838 384,88.6121593217 376,92.9422863406 369,88.6121593217\"/>\n",
       "<polygon id=\"64\" points=\"177,107.932667397 184,103.602540378 192,107.932667397 192,116.592921435 184,120.923048454 177,116.592921435\"/>\n",
       "<polygon id=\"65\" points=\"145,107.932667397 152,103.602540378 160,107.932667397 160,116.592921435 152,120.923048454 145,116.592921435\"/>\n",
       "<polygon id=\"129\" points=\"417,79.9519052838 424,75.6217782649 432,79.9519052838 432,88.6121593217 424,92.9422863406 417,88.6121593217\"/>\n",
       "<polygon id=\"54\" points=\"273,107.932667397 280,103.602540378 288,107.932667397 288,116.592921435 280,120.923048454 273,116.592921435\"/>\n",
       "<polygon id=\"48\" points=\"378,93.9422863406 385,89.6121593217 393,93.9422863406 393,102.602540378 385,106.932667397 378,102.602540378\"/>\n",
       "<polygon id=\"38\" points=\"321,79.9519052838 328,75.6217782649 336,79.9519052838 336,88.6121593217 328,92.9422863406 321,88.6121593217\"/>\n",
       "<polygon id=\"46\" points=\"314,93.9422863406 321,89.6121593217 329,93.9422863406 329,102.602540378 321,106.932667397 314,102.602540378\"/>\n",
       "<polygon id=\"121\" points=\"410,93.9422863406 417,89.6121593217 425,93.9422863406 425,102.602540378 417,106.932667397 410,102.602540378\"/>\n",
       "<polygon id=\"49\" points=\"362,93.9422863406 369,89.6121593217 377,93.9422863406 377,102.602540378 369,106.932667397 362,102.602540378\"/>\n",
       "<polygon id=\"40\" points=\"257,107.932667397 264,103.602540378 272,107.932667397 272,116.592921435 264,120.923048454 257,116.592921435\"/>\n",
       "<polygon id=\"62\" points=\"202,121.923048454 209,117.592921435 217,121.923048454 217,130.583302492 209,134.913429511 202,130.583302492\"/>\n",
       "<polygon id=\"53\" points=\"385,107.932667397 392,103.602540378 400,107.932667397 400,116.592921435 392,120.923048454 385,116.592921435\"/>\n",
       "<polygon id=\"57\" points=\"369,107.932667397 376,103.602540378 384,107.932667397 384,116.592921435 376,120.923048454 369,116.592921435\"/>\n",
       "<polygon id=\"76\" points=\"113,135.913429511 120,131.583302492 128,135.913429511 128,144.573683549 120,148.903810568 113,144.573683549\"/>\n",
       "<polygon id=\"67\" points=\"161,135.913429511 168,131.583302492 176,135.913429511 176,144.573683549 168,148.903810568 161,144.573683549\"/>\n",
       "<polygon id=\"77\" points=\"97,135.913429511 104,131.583302492 112,135.913429511 112,144.573683549 104,148.903810568 97,144.573683549\"/>\n",
       "<polygon id=\"124\" points=\"417,135.913429511 424,131.583302492 432,135.913429511 432,144.573683549 424,148.903810568 417,144.573683549\"/>\n",
       "<polygon id=\"131\" points=\"410,121.923048454 417,117.592921435 425,121.923048454 425,130.583302492 417,134.913429511 410,130.583302492\"/>\n",
       "<polygon id=\"63\" points=\"177,135.913429511 184,131.583302492 192,135.913429511 192,144.573683549 184,148.903810568 177,144.573683549\"/>\n",
       "<polygon id=\"117\" points=\"337,107.932667397 344,103.602540378 352,107.932667397 352,116.592921435 344,120.923048454 337,116.592921435\"/>\n",
       "<polygon id=\"119\" points=\"346,121.923048454 353,117.592921435 361,121.923048454 361,130.583302492 353,134.913429511 346,130.583302492\"/>\n",
       "<polygon id=\"58\" points=\"250,121.923048454 257,117.592921435 265,121.923048454 265,130.583302492 257,134.913429511 250,130.583302492\"/>\n",
       "<polygon id=\"132\" points=\"417,163.894191624 424,159.564064606 432,163.894191624 432,172.554445662 424,176.884572681 417,172.554445662\"/>\n",
       "<polygon id=\"118\" points=\"314,121.923048454 321,117.592921435 329,121.923048454 329,130.583302492 321,134.913429511 314,130.583302492\"/>\n",
       "<polygon id=\"126\" points=\"362,121.923048454 369,117.592921435 377,121.923048454 377,130.583302492 369,134.913429511 362,130.583302492\"/>\n",
       "<polygon id=\"115\" points=\"282,121.923048454 289,117.592921435 297,121.923048454 297,130.583302492 289,134.913429511 282,130.583302492\"/>\n",
       "<polygon id=\"134\" points=\"394,121.923048454 401,117.592921435 409,121.923048454 409,130.583302492 401,134.913429511 394,130.583302492\"/>\n",
       "<polygon id=\"61\" points=\"209,135.913429511 216,131.583302492 224,135.913429511 224,144.573683549 216,148.903810568 209,144.573683549\"/>\n",
       "<polygon id=\"127\" points=\"378,121.923048454 385,117.592921435 393,121.923048454 393,130.583302492 385,134.913429511 378,130.583302492\"/>\n",
       "<polygon id=\"82\" points=\"33,163.894191624 40,159.564064606 48,163.894191624 48,172.554445662 40,176.884572681 33,172.554445662\"/>\n",
       "<polygon id=\"133\" points=\"410,149.903810568 417,145.573683549 425,149.903810568 425,158.564064606 417,162.894191624 410,158.564064606\"/>\n",
       "<polygon id=\"111\" points=\"330,121.923048454 337,117.592921435 345,121.923048454 345,130.583302492 337,134.913429511 330,130.583302492\"/>\n",
       "<polygon id=\"116\" points=\"298,121.923048454 305,117.592921435 313,121.923048454 313,130.583302492 305,134.913429511 298,130.583302492\"/>\n",
       "<polygon id=\"78\" points=\"90,149.903810568 97,145.573683549 105,149.903810568 105,158.564064606 97,162.894191624 90,158.564064606\"/>\n",
       "<polygon id=\"81\" points=\"65,163.894191624 72,159.564064606 80,163.894191624 80,172.554445662 72,176.884572681 65,172.554445662\"/>\n",
       "<polygon id=\"114\" points=\"289,135.913429511 296,131.583302492 304,135.913429511 304,144.573683549 296,148.903810568 289,144.573683549\"/>\n",
       "<polygon id=\"80\" points=\"81,163.894191624 88,159.564064606 96,163.894191624 96,172.554445662 88,176.884572681 81,172.554445662\"/>\n",
       "<polygon id=\"113\" points=\"305,135.913429511 312,131.583302492 320,135.913429511 320,144.573683549 312,148.903810568 305,144.573683549\"/>\n",
       "<polygon id=\"137\" points=\"385,135.913429511 392,131.583302492 400,135.913429511 400,144.573683549 392,148.903810568 385,144.573683549\"/>\n",
       "<polygon id=\"59\" points=\"234,149.903810568 241,145.573683549 249,149.903810568 249,158.564064606 241,162.894191624 234,158.564064606\"/>\n",
       "<polygon id=\"110\" points=\"321,135.913429511 328,131.583302492 336,135.913429511 336,144.573683549 328,148.903810568 321,144.573683549\"/>\n",
       "<polygon id=\"128\" points=\"353,135.913429511 360,131.583302492 368,135.913429511 368,144.573683549 360,148.903810568 353,144.573683549\"/>\n",
       "<polygon id=\"108\" points=\"266,149.903810568 273,145.573683549 281,149.903810568 281,158.564064606 273,162.894191624 266,158.564064606\"/>\n",
       "<polygon id=\"71\" points=\"145,163.894191624 152,159.564064606 160,163.894191624 160,172.554445662 152,176.884572681 145,172.554445662\"/>\n",
       "<polygon id=\"136\" points=\"378,149.903810568 385,145.573683549 393,149.903810568 393,158.564064606 385,162.894191624 378,158.564064606\"/>\n",
       "<polygon id=\"109\" points=\"298,149.903810568 305,145.573683549 313,149.903810568 313,158.564064606 305,162.894191624 298,158.564064606\"/>\n",
       "<polygon id=\"107\" points=\"209,163.894191624 216,159.564064606 224,163.894191624 224,172.554445662 216,176.884572681 209,172.554445662\"/>\n",
       "<polygon id=\"68\" points=\"138,149.903810568 145,145.573683549 153,149.903810568 153,158.564064606 145,162.894191624 138,158.564064606\"/>\n",
       "<polygon id=\"72\" points=\"177,163.894191624 184,159.564064606 192,163.894191624 192,172.554445662 184,176.884572681 177,172.554445662\"/>\n",
       "<polygon id=\"170\" points=\"314,233.846096908 321,229.515969889 329,233.846096908 329,242.506350946 321,246.836477965 314,242.506350946\"/>\n",
       "<polygon id=\"139\" points=\"369,163.894191624 376,159.564064606 384,163.894191624 384,172.554445662 376,176.884572681 369,172.554445662\"/>\n",
       "<polygon id=\"141\" points=\"362,149.903810568 369,145.573683549 377,149.903810568 377,158.564064606 369,162.894191624 362,158.564064606\"/>\n",
       "<polygon id=\"144\" points=\"330,149.903810568 337,145.573683549 345,149.903810568 345,158.564064606 337,162.894191624 330,158.564064606\"/>\n",
       "<polygon id=\"143\" points=\"353,163.894191624 360,159.564064606 368,163.894191624 368,172.554445662 360,176.884572681 353,172.554445662\"/>\n",
       "<polygon id=\"138\" points=\"385,163.894191624 392,159.564064606 400,163.894191624 400,172.554445662 392,176.884572681 385,172.554445662\"/>\n",
       "<polygon id=\"168\" points=\"282,233.846096908 289,229.515969889 297,233.846096908 297,242.506350946 289,246.836477965 282,242.506350946\"/>\n",
       "<polygon id=\"140\" points=\"337,163.894191624 344,159.564064606 352,163.894191624 352,172.554445662 344,176.884572681 337,172.554445662\"/>\n",
       "<polygon id=\"73\" points=\"138,177.884572681 145,173.554445662 153,177.884572681 153,186.544826719 145,190.874953738 138,186.544826719\"/>\n",
       "<polygon id=\"106\" points=\"202,177.884572681 209,173.554445662 217,177.884572681 217,186.544826719 209,190.874953738 202,186.544826719\"/>\n",
       "<polygon id=\"74\" points=\"122,177.884572681 129,173.554445662 137,177.884572681 137,186.544826719 129,190.874953738 122,186.544826719\"/>\n",
       "<polygon id=\"75\" points=\"106,177.884572681 113,173.554445662 121,177.884572681 121,186.544826719 113,190.874953738 106,186.544826719\"/>\n",
       "<polygon id=\"103\" points=\"234,177.884572681 241,173.554445662 249,177.884572681 249,186.544826719 241,190.874953738 234,186.544826719\"/>\n",
       "<polygon id=\"147\" points=\"321,163.894191624 328,159.564064606 336,163.894191624 336,172.554445662 328,176.884572681 321,172.554445662\"/>\n",
       "<polygon id=\"96\" points=\"186,177.884572681 193,173.554445662 201,177.884572681 201,186.544826719 193,190.874953738 186,186.544826719\"/>\n",
       "<polygon id=\"84\" points=\"81,191.874953738 88,187.544826719 96,191.874953738 96,200.535207776 88,204.865334795 81,200.535207776\"/>\n",
       "<polygon id=\"148\" points=\"346,177.884572681 353,173.554445662 361,177.884572681 361,186.544826719 353,190.874953738 346,186.544826719\"/>\n",
       "<polygon id=\"95\" points=\"161,191.874953738 168,187.544826719 176,191.874953738 176,200.535207776 168,204.865334795 161,200.535207776\"/>\n",
       "<polygon id=\"151\" points=\"298,177.884572681 305,173.554445662 313,177.884572681 313,186.544826719 305,190.874953738 298,186.544826719\"/>\n",
       "<polygon id=\"152\" points=\"337,191.874953738 344,187.544826719 352,191.874953738 352,200.535207776 344,204.865334795 337,200.535207776\"/>\n",
       "<polygon id=\"85\" points=\"106,205.865334795 113,201.535207776 121,205.865334795 121,214.525588833 113,218.855715851 106,214.525588833\"/>\n",
       "<polygon id=\"104\" points=\"250,177.884572681 257,173.554445662 265,177.884572681 265,186.544826719 257,190.874953738 250,186.544826719\"/>\n",
       "<polygon id=\"102\" points=\"225,191.874953738 232,187.544826719 240,191.874953738 240,200.535207776 232,204.865334795 225,200.535207776\"/>\n",
       "<polygon id=\"86\" points=\"113,191.874953738 120,187.544826719 128,191.874953738 128,200.535207776 120,204.865334795 113,200.535207776\"/>\n",
       "<polygon id=\"92\" points=\"145,247.836477965 152,243.506350946 160,247.836477965 160,256.496732003 152,260.826859022 145,256.496732003\"/>\n",
       "<polygon id=\"87\" points=\"138,205.865334795 145,201.535207776 153,205.865334795 153,214.525588833 145,218.855715851 138,214.525588833\"/>\n",
       "<polygon id=\"101\" points=\"202,205.865334795 209,201.535207776 217,205.865334795 217,214.525588833 209,218.855715851 202,214.525588833\"/>\n",
       "<polygon id=\"88\" points=\"97,219.855715851 104,215.525588833 112,219.855715851 112,228.515969889 104,232.846096908 97,228.515969889\"/>\n",
       "<polygon id=\"94\" points=\"161,219.855715851 168,215.525588833 176,219.855715851 176,228.515969889 168,232.846096908 161,228.515969889\"/>\n",
       "<polygon id=\"97\" points=\"186,205.865334795 193,201.535207776 201,205.865334795 201,214.525588833 193,218.855715851 186,214.525588833\"/>\n",
       "<polygon id=\"149\" points=\"369,191.874953738 376,187.544826719 384,191.874953738 384,200.535207776 376,204.865334795 369,200.535207776\"/>\n",
       "<polygon id=\"179\" points=\"282,289.807621135 289,285.477494116 297,289.807621135 297,298.467875173 289,302.798002192 282,298.467875173\"/>\n",
       "<polygon id=\"100\" points=\"234,205.865334795 241,201.535207776 249,205.865334795 249,214.525588833 241,218.855715851 234,214.525588833\"/>\n",
       "<polygon id=\"156\" points=\"330,205.865334795 337,201.535207776 345,205.865334795 345,214.525588833 337,218.855715851 330,214.525588833\"/>\n",
       "<polygon id=\"91\" points=\"122,233.846096908 129,229.515969889 137,233.846096908 137,242.506350946 129,246.836477965 122,242.506350946\"/>\n",
       "<polygon id=\"172\" points=\"401,219.855715851 408,215.525588833 416,219.855715851 416,228.515969889 408,232.846096908 401,228.515969889\"/>\n",
       "<polygon id=\"155\" points=\"273,219.855715851 280,215.525588833 288,219.855715851 288,228.515969889 280,232.846096908 273,228.515969889\"/>\n",
       "<polygon id=\"157\" points=\"369,219.855715851 376,215.525588833 384,219.855715851 384,228.515969889 376,232.846096908 369,228.515969889\"/>\n",
       "<polygon id=\"89\" points=\"113,219.855715851 120,215.525588833 128,219.855715851 128,228.515969889 120,232.846096908 113,228.515969889\"/>\n",
       "<polygon id=\"158\" points=\"298,233.846096908 305,229.515969889 313,233.846096908 313,242.506350946 305,246.836477965 298,242.506350946\"/>\n",
       "<polygon id=\"93\" points=\"154,233.846096908 161,229.515969889 169,233.846096908 169,242.506350946 161,246.836477965 154,242.506350946\"/>\n",
       "<polygon id=\"99\" points=\"225,219.855715851 232,215.525588833 240,219.855715851 240,228.515969889 232,232.846096908 225,228.515969889\"/>\n",
       "<polygon id=\"98\" points=\"186,233.846096908 193,229.515969889 201,233.846096908 201,242.506350946 193,246.836477965 186,242.506350946\"/>\n",
       "<polygon id=\"171\" points=\"330,233.846096908 337,229.515969889 345,233.846096908 345,242.506350946 337,246.836477965 330,242.506350946\"/>\n",
       "<polygon id=\"174\" points=\"305,275.817240079 312,271.48711306 320,275.817240079 320,284.477494116 312,288.807621135 305,284.477494116\"/>\n",
       "<polygon id=\"175\" points=\"289,275.817240079 296,271.48711306 304,275.817240079 304,284.477494116 296,288.807621135 289,284.477494116\"/>\n",
       "<polygon id=\"173\" points=\"369,247.836477965 376,243.506350946 384,247.836477965 384,256.496732003 376,260.826859022 369,256.496732003\"/>\n",
       "<polygon id=\"176\" points=\"321,247.836477965 328,243.506350946 336,247.836477965 336,256.496732003 328,260.826859022 321,256.496732003\"/>\n",
       "<polygon id=\"178\" points=\"330,261.826859022 337,257.496732003 345,261.826859022 345,270.48711306 337,274.817240079 330,270.48711306\"/>\n",
       "<polygon id=\"180\" points=\"298,289.807621135 305,285.477494116 313,289.807621135 313,298.467875173 305,302.798002192 298,298.467875173\"/>\n",
       "<polygon id=\"181\" points=\"321,275.817240079 328,271.48711306 336,275.817240079 336,284.477494116 328,288.807621135 321,284.477494116\"/>\n",
       "<polygon id=\"182\" points=\"314,289.807621135 321,285.477494116 329,289.807621135 329,298.467875173 321,302.798002192 314,298.467875173\"/>\n",
       "</svg>"
      ],
      "text/plain": [
       "<IPython.core.display.SVG object>"
      ]
     },
     "metadata": {},
     "output_type": "display_data"
    }
   ],
   "source": [
    "cg = Chorogrid(geodf, ids, colors, id_column=\"AC_NO\")\n",
    "cg.draw_hex()\n",
    "cg.done(save_filename=\"gujarat_ac_hex.svg\", show=True)"
   ]
  },
  {
   "cell_type": "code",
   "execution_count": null,
   "metadata": {
    "collapsed": true
   },
   "outputs": [],
   "source": []
  }
 ],
 "metadata": {
  "kernelspec": {
   "display_name": "Python 2",
   "language": "python",
   "name": "python2"
  },
  "language_info": {
   "codemirror_mode": {
    "name": "ipython",
    "version": 2
   },
   "file_extension": ".py",
   "mimetype": "text/x-python",
   "name": "python",
   "nbconvert_exporter": "python",
   "pygments_lexer": "ipython2",
   "version": "2.7.12"
  }
 },
 "nbformat": 4,
 "nbformat_minor": 2
}
